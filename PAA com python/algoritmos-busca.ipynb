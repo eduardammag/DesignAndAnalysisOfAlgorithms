{
 "cells": [
  {
   "cell_type": "markdown",
   "id": "ffefda93",
   "metadata": {},
   "source": [
    "# Algoritmos de busca"
   ]
  },
  {
   "cell_type": "markdown",
   "id": "ba0d0800",
   "metadata": {},
   "source": [
    "# 1. Busca Sequencial\n",
    "#### Percorremos uma lista do início ao fim até encontrar o elemento ou chegar ao final.\n"
   ]
  },
  {
   "cell_type": "code",
   "execution_count": null,
   "id": "ec3daf13",
   "metadata": {},
   "outputs": [],
   "source": [
    "def busca_sequencial(lista, alvo):\n",
    "    for i in range(len(lista)):\n",
    "        if lista[i] == alvo:\n",
    "            return i\n",
    "        return -1    \n",
    "\n",
    "        "
   ]
  }
 ],
 "metadata": {
  "kernelspec": {
   "display_name": "Python 3",
   "language": "python",
   "name": "python3"
  },
  "language_info": {
   "name": "python",
   "version": "3.13.3"
  }
 },
 "nbformat": 4,
 "nbformat_minor": 5
}
