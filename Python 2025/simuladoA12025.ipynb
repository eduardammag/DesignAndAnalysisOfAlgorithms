{
 "cells": [
  {
   "cell_type": "markdown",
   "id": "6a71d7aa",
   "metadata": {},
   "source": [
    "### Questão 2  \n",
    "\n",
    "Dada uma sequência `v` ordenada com `n` números distintos, projete um algoritmo que encontre os `k` elementos mais próximos do valor contido em uma posição `x` (os parâmetros são `v`, `k` e `x`). A proximidade entre os números nas posições `i` e `j` é calculada como `|aᵢ − aⱼ|`. O retorno deverá ser uma lista contendo os elementos mais próximos do elemento na posição `x`. O algoritmo deverá apresentar uma complexidade `O(k)`."
   ]
  },
  {
   "cell_type": "code",
   "execution_count": 1,
   "id": "9f0a2a4c",
   "metadata": {},
   "outputs": [],
   "source": [
    "def k_mais_proximos(v,k,x):\n",
    "    n = len(v)\n",
    "    if x < 0 or x >=n:\n",
    "        raise IndexError(\"Índice x fora do intervalo\")\n",
    "    if k<=0:\n",
    "        return []\n",
    "\n",
    "    k = min(k,n-1)   \n",
    "    res = []\n",
    "    e = x-1\n",
    "    d = x+1\n",
    "\n",
    "    while len(res) < k:\n",
    "        if e<0:\n",
    "            res.append(v[d])\n",
    "            d += 1\n",
    "        elif d>=n:\n",
    "            res.append(v[e])\n",
    "            e -=1\n",
    "        else:\n",
    "            if abs(v[e] - v[x]) <= abs(v[d] - v[x]):\n",
    "                res.append(v[e])\n",
    "                e-=1\n",
    "            else:\n",
    "                res.append(v[d])\n",
    "                d+=1\n",
    "    return res                       "
   ]
  },
  {
   "cell_type": "code",
   "execution_count": 2,
   "id": "ab70617a",
   "metadata": {},
   "outputs": [
    {
     "name": "stdout",
     "output_type": "stream",
     "text": [
      "Mais próximos de v1[2]=5: [3, 8, 1]\n",
      "Mais próximos de v2[3]=0: [1, -2, 3, 4]\n",
      "Mais próximos de v3[2]=30: [20, 40, 10]\n",
      "Mais próximos de v4[1]=2: []\n",
      "Mais próximos de v5[0]=5: [10, 15, 20]\n"
     ]
    }
   ],
   "source": [
    "# Exemplo 1: vetor simples\n",
    "v1 = [1, 3, 5, 8, 10]\n",
    "print(\"Mais próximos de v1[2]=5:\", k_mais_proximos(v1, 3, 2))\n",
    "\n",
    "# Exemplo 2: vetor com números negativos\n",
    "v2 = [-10, -5, -2, 0, 1, 3, 4]\n",
    "print(\"Mais próximos de v2[3]=0:\", k_mais_proximos(v2, 4, 3))\n",
    "\n",
    "# Exemplo 3: pedindo mais do que o disponível\n",
    "v3 = [10, 20, 30, 40]\n",
    "print(\"Mais próximos de v3[2]=30:\", k_mais_proximos(v3, 10, 2))\n",
    "\n",
    "# Exemplo 4: k=0 retorna vazio\n",
    "v4 = [1,2,3]\n",
    "print(\"Mais próximos de v4[1]=2:\", k_mais_proximos(v4, 0, 1))\n",
    "\n",
    "# Exemplo 5: índice no início\n",
    "v5 = [5,10,15,20,25]\n",
    "print(\"Mais próximos de v5[0]=5:\", k_mais_proximos(v5, 3, 0))"
   ]
  },
  {
   "cell_type": "markdown",
   "id": "34cd97cd",
   "metadata": {},
   "source": [
    "### Questão 3  \n",
    "Um mergulhador precisa explorar 𝑥 metros de um túnel subaquático. Seu tanque de oxigênio, quando cheio, permite mergulhar 𝑦 metros. Existem pontos de reabastecimento de oxigênio ao longo do túnel. Dado um vetor ordenado com as distâncias dos pontos de reabastecimento desde a entrada do túnel, projete um algoritmo que determine em quais pontos o mergulhador deve reabastecer para completar a exploração com o menor número de paradas possível, ou indicar \n",
    "que a exploração é impossível. Analise a complexidade do algoritmo proposto."
   ]
  },
  {
   "cell_type": "code",
   "execution_count": null,
   "id": "41ed5217",
   "metadata": {},
   "outputs": [],
   "source": [
    "def paradas_minimas(postos, x, y):\n",
    "    n = len(postos)       # número total de postos\n",
    "    current = 0           # posição atual do mergulhador (começa na entrada)\n",
    "    i = 0                 # índice do próximo posto a verificar\n",
    "    res = []              # lista para armazenar as paradas escolhidas\n",
    "\n",
    "    # Se o tanque permite chegar até o final sem paradas\n",
    "    if y >= x:\n",
    "        return res        # nenhuma parada necessária, retorna lista vazia\n",
    "\n",
    "    # Enquanto o mergulhador ainda não consegue alcançar o final\n",
    "    while current + y < x:\n",
    "        last = -1         # marcador do posto mais distante alcançável no alcance atual\n",
    "\n",
    "        # Procura todos os postos que podem ser alcançados a partir da posição atual\n",
    "        while i < n and postos[i] <= current + y:\n",
    "            last = i      # atualiza o posto mais distante dentro do alcance\n",
    "            i += 1        # avança para o próximo posto\n",
    "\n",
    "        # Se nenhum posto é alcançável, a exploração é impossível\n",
    "        if last == -1:\n",
    "            return None\n",
    "\n",
    "        # Para no posto mais distante alcançável\n",
    "        res.append(postos[last])\n",
    "\n",
    "        # Atualiza a posição atual para o posto onde parou\n",
    "        current = postos[last]\n",
    "\n",
    "    # Retorna a lista completa de paradas\n",
    "    return res\n",
    "\n",
    "\n",
    "# Complexidade:\n",
    "# Tempo: O(n), onde n é o número de postos. Cada posto é verificado no máximo uma vez pelo índice 'i'.\n",
    "# Espaço: O(k), onde k é o número de paradas feitas (lista res). Além disso, apenas algumas variáveis auxiliares são usadas (O(1)).\n"
   ]
  },
  {
   "cell_type": "code",
   "execution_count": 5,
   "id": "a8f6c80d",
   "metadata": {},
   "outputs": [
    {
     "name": "stdout",
     "output_type": "stream",
     "text": [
      "[5, 8, 12]\n",
      "None\n",
      "[]\n"
     ]
    }
   ],
   "source": [
    "postos = [2, 5, 8, 12]\n",
    "print(paradas_minimas(postos, 15, 6))\n",
    "print(paradas_minimas([7, 9], 20, 5))\n",
    "print(paradas_minimas([3, 6, 9], 8, 10))"
   ]
  },
  {
   "cell_type": "markdown",
   "id": "18b7b9b3",
   "metadata": {},
   "source": [
    "### Questão 4\n",
    "\n",
    "Uma sequência `A` contém `n` inteiros positivos. Cada número em `A` pertence ao conjunto {n², n²+1, n²+2, …, n²+n}. Crie um algoritmo capaz de encontrar o número de `A` que mais se repete (caso exista mais de um pode retornar qualquer um dos números empatados). A complexidade do pior caso deverá ser O(n)."
   ]
  },
  {
   "cell_type": "code",
   "execution_count": 3,
   "id": "85aee8fb",
   "metadata": {},
   "outputs": [],
   "source": [
    "def numero_mais_repetido(A,n):\n",
    "    base = n**2\n",
    "    contagem = [0] * (n+1)\n",
    "\n",
    "    for num in A:\n",
    "        contagem[num-base] +=1\n",
    "\n",
    "    max_idx = 0\n",
    "    for i in range(1, n+1):\n",
    "        if contagem[i] > contagem[max_idx]:\n",
    "            max_idx = i\n",
    "\n",
    "    return base + max_idx           "
   ]
  },
  {
   "cell_type": "markdown",
   "id": "2c497a84",
   "metadata": {},
   "source": [
    "Esse algoritmo tem complexidade **O(n)** porque percorre o vetor `A` apenas uma vez para contar frequências e depois percorre o vetor `contagem` de tamanho `n+1`.  \n"
   ]
  },
  {
   "cell_type": "code",
   "execution_count": 5,
   "id": "72a18b42",
   "metadata": {},
   "outputs": [
    {
     "name": "stdout",
     "output_type": "stream",
     "text": [
      "9\n"
     ]
    }
   ],
   "source": [
    "# Exemplo \n",
    "A = [9, 10, 10, 9, 11] \n",
    "print(numero_mais_repetido(A,3))  "
   ]
  }
 ],
 "metadata": {
  "kernelspec": {
   "display_name": "Python 3",
   "language": "python",
   "name": "python3"
  },
  "language_info": {
   "codemirror_mode": {
    "name": "ipython",
    "version": 3
   },
   "file_extension": ".py",
   "mimetype": "text/x-python",
   "name": "python",
   "nbconvert_exporter": "python",
   "pygments_lexer": "ipython3",
   "version": "3.11.9"
  }
 },
 "nbformat": 4,
 "nbformat_minor": 5
}
