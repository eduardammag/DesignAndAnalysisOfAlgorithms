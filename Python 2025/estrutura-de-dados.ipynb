{
 "cells": [
  {
   "cell_type": "markdown",
   "id": "d4d7eedc",
   "metadata": {},
   "source": [
    "# PILHA"
   ]
  },
  {
   "cell_type": "code",
   "execution_count": 1,
   "id": "9b064615",
   "metadata": {},
   "outputs": [],
   "source": [
    "class Stack:\n",
    "    def __init__(self, tamanho):\n",
    "        # Cria uma lista do tamanho especificado, indexação começa em 1\n",
    "        self.items = [None] * (tamanho + 1)  # índice 0 não é usado\n",
    "        self.topo = 0  # topo da pilha (começa vazia)\n",
    "        self.tamanho = tamanho\n",
    "\n",
    "    def stack_empty(self):\n",
    "        \"\"\"Verifica se a pilha está vazia\"\"\"\n",
    "        if self.topo == 0:\n",
    "            return True\n",
    "        else:\n",
    "            return False\n",
    "\n",
    "    def push(self, x):\n",
    "        \"\"\"Insere elemento no topo da pilha\"\"\"\n",
    "        if self.topo == self.tamanho:\n",
    "            raise OverflowError(\"overflow\")  # pilha cheia\n",
    "        self.topo = self.topo + 1\n",
    "        self.items[self.topo] = x\n",
    "\n",
    "    def pop(self):\n",
    "        \"\"\"Remove e retorna elemento do topo\"\"\"\n",
    "        if self.stack_empty():\n",
    "            raise IndexError(\"underflow\")  # pilha vazia\n",
    "        else:\n",
    "            self.topo = self.topo - 1\n",
    "            return self.items[self.topo + 1]"
   ]
  },
  {
   "cell_type": "markdown",
   "id": "91a769fa",
   "metadata": {},
   "source": [
    "# Fila"
   ]
  },
  {
   "cell_type": "code",
   "execution_count": 2,
   "id": "d51034e8",
   "metadata": {},
   "outputs": [],
   "source": [
    "class Queue:\n",
    "    def __init__(self, comprimento):\n",
    "        # Cria uma lista com base no comprimento, indexação começa em 1\n",
    "        self.items = [None] * (comprimento + 1)\n",
    "        self.inicio = 1  # início da fila\n",
    "        self.fim = 1     # fim da fila\n",
    "        self.comprimento = comprimento\n",
    "\n",
    "    def enqueue(self, x):\n",
    "        \"\"\"Insere um elemento no fim da fila\"\"\"\n",
    "        self.items[self.fim] = x\n",
    "        if self.fim == self.comprimento:\n",
    "            self.fim = 1\n",
    "        else:\n",
    "            self.fim = self.fim + 1\n",
    "\n",
    "    def dequeue(self):\n",
    "        \"\"\"Remove e retorna elemento do início da fila\"\"\"\n",
    "        x = self.items[self.inicio]\n",
    "        if self.inicio == self.comprimento:\n",
    "            self.inicio = 1\n",
    "        else:\n",
    "            self.inicio = self.inicio + 1\n",
    "        return x\n"
   ]
  },
  {
   "cell_type": "code",
   "execution_count": 3,
   "id": "96bcc24c",
   "metadata": {},
   "outputs": [
    {
     "name": "stdout",
     "output_type": "stream",
     "text": [
      "=== PILHA ===\n",
      "Desempilhando: 30\n",
      "Desempilhando: 20\n",
      "\n",
      "=== FILA ===\n",
      "Removendo da fila: A\n",
      "Removendo da fila: B\n"
     ]
    }
   ],
   "source": [
    "# Testando a PILHA\n",
    "print(\"=== PILHA ===\")\n",
    "pilha = Stack(5)\n",
    "pilha.push(10)\n",
    "pilha.push(20)\n",
    "pilha.push(30)\n",
    "print(\"Desempilhando:\", pilha.pop())  # deve ser 30\n",
    "print(\"Desempilhando:\", pilha.pop())  # deve ser 20\n",
    "\n",
    "# Testando a FILA\n",
    "print(\"\\n=== FILA ===\")\n",
    "fila = Queue(5)\n",
    "fila.enqueue(\"A\")\n",
    "fila.enqueue(\"B\")\n",
    "fila.enqueue(\"C\")\n",
    "print(\"Removendo da fila:\", fila.dequeue())  # deve ser A\n",
    "print(\"Removendo da fila:\", fila.dequeue())  # deve ser B"
   ]
  },
  {
   "cell_type": "markdown",
   "id": "be5f5cf9",
   "metadata": {},
   "source": [
    "# Lista ligada"
   ]
  },
  {
   "cell_type": "code",
   "execution_count": 4,
   "id": "7c7984ef",
   "metadata": {},
   "outputs": [],
   "source": [
    "# ==========================\n",
    "# Nó da lista ligada\n",
    "# ==========================\n",
    "class Node:\n",
    "    def __init__(self, valor):\n",
    "        self.valor = valor   # dado armazenado\n",
    "        self.proximo = None  # ponteiro para o próximo nó\n",
    "\n",
    "\n",
    "# ==========================\n",
    "# Lista ligada\n",
    "# ==========================\n",
    "class ListaLigada:\n",
    "    def __init__(self):\n",
    "        self.head = None  # início da lista (vazia)\n",
    "\n",
    "    def inserir_inicio(self, valor):\n",
    "        \"\"\"Insere um novo nó no início da lista\"\"\"\n",
    "        novo_no = Node(valor)\n",
    "        novo_no.proximo = self.head  # aponta para o antigo primeiro\n",
    "        self.head = novo_no          # agora ele é o primeiro\n",
    "\n",
    "    def inserir_fim(self, valor):\n",
    "        \"\"\"Insere um novo nó no final da lista\"\"\"\n",
    "        novo_no = Node(valor)\n",
    "        if self.head is None:\n",
    "            # Lista vazia: novo_no vira o head\n",
    "            self.head = novo_no\n",
    "            return\n",
    "        atual = self.head\n",
    "        while atual.proximo:\n",
    "            atual = atual.proximo\n",
    "        atual.proximo = novo_no\n",
    "\n",
    "    def remover(self, valor):\n",
    "        \"\"\"Remove o primeiro nó que contém 'valor'\"\"\"\n",
    "        atual = self.head\n",
    "        anterior = None\n",
    "        while atual and atual.valor != valor:\n",
    "            anterior = atual\n",
    "            atual = atual.proximo\n",
    "        if atual is None:\n",
    "            print(\"Valor não encontrado\")\n",
    "            return\n",
    "        if anterior is None:\n",
    "            # o valor está no primeiro nó\n",
    "            self.head = atual.proximo\n",
    "        else:\n",
    "            # pula o nó atual\n",
    "            anterior.proximo = atual.proximo\n",
    "\n",
    "    def buscar(self, valor):\n",
    "        \"\"\"Retorna True se valor estiver na lista\"\"\"\n",
    "        atual = self.head\n",
    "        while atual:\n",
    "            if atual.valor == valor:\n",
    "                return True\n",
    "            atual = atual.proximo\n",
    "        return False\n",
    "\n",
    "    def imprimir(self):\n",
    "        \"\"\"Imprime todos os elementos da lista\"\"\"\n",
    "        atual = self.head\n",
    "        elementos = []\n",
    "        while atual:\n",
    "            elementos.append(atual.valor)\n",
    "            atual = atual.proximo\n",
    "        print(\" -> \".join(map(str, elementos)) if elementos else \"Lista vazia\")\n"
   ]
  },
  {
   "cell_type": "code",
   "execution_count": 5,
   "id": "7ab61a30",
   "metadata": {},
   "outputs": [
    {
     "name": "stdout",
     "output_type": "stream",
     "text": [
      "1 -> 2 -> 3\n",
      "1 -> 2 -> 3 -> 4 -> 5\n",
      "Buscar 3: True\n",
      "Buscar 10: False\n",
      "1 -> 2 -> 4 -> 5\n",
      "2 -> 4 -> 5\n"
     ]
    }
   ],
   "source": [
    "lista = ListaLigada()\n",
    "\n",
    "# Inserindo no início\n",
    "lista.inserir_inicio(3)\n",
    "lista.inserir_inicio(2)\n",
    "lista.inserir_inicio(1)\n",
    "lista.imprimir()  # 1 -> 2 -> 3\n",
    "\n",
    "# Inserindo no fim\n",
    "lista.inserir_fim(4)\n",
    "lista.inserir_fim(5)\n",
    "lista.imprimir()  # 1 -> 2 -> 3 -> 4 -> 5\n",
    "\n",
    "# Buscando valores\n",
    "print(\"Buscar 3:\", lista.buscar(3))  # True\n",
    "print(\"Buscar 10:\", lista.buscar(10))  # False\n",
    "\n",
    "# Removendo elementos\n",
    "lista.remover(3)\n",
    "lista.imprimir()  # 1 -> 2 -> 4 -> 5\n",
    "\n",
    "lista.remover(1)\n",
    "lista.imprimir()  # 2 -> 4 -> 5"
   ]
  },
  {
   "cell_type": "code",
   "execution_count": null,
   "id": "f184201e",
   "metadata": {},
   "outputs": [],
   "source": []
  },
  {
   "cell_type": "code",
   "execution_count": null,
   "id": "86f351d8",
   "metadata": {},
   "outputs": [],
   "source": []
  },
  {
   "cell_type": "code",
   "execution_count": null,
   "id": "34c6ac7b",
   "metadata": {},
   "outputs": [],
   "source": []
  },
  {
   "cell_type": "code",
   "execution_count": null,
   "id": "ee6bf86a",
   "metadata": {},
   "outputs": [],
   "source": []
  },
  {
   "cell_type": "code",
   "execution_count": null,
   "id": "22d30324",
   "metadata": {},
   "outputs": [],
   "source": []
  },
  {
   "cell_type": "code",
   "execution_count": null,
   "id": "337ecb6d",
   "metadata": {},
   "outputs": [],
   "source": []
  },
  {
   "cell_type": "code",
   "execution_count": null,
   "id": "63e8e2b6",
   "metadata": {},
   "outputs": [],
   "source": []
  },
  {
   "cell_type": "code",
   "execution_count": null,
   "id": "f6f5ebb3",
   "metadata": {},
   "outputs": [],
   "source": []
  },
  {
   "cell_type": "code",
   "execution_count": null,
   "id": "83430641",
   "metadata": {},
   "outputs": [],
   "source": []
  },
  {
   "cell_type": "code",
   "execution_count": null,
   "id": "c3fb13f3",
   "metadata": {},
   "outputs": [],
   "source": []
  },
  {
   "cell_type": "code",
   "execution_count": null,
   "id": "f82b08c8",
   "metadata": {},
   "outputs": [],
   "source": []
  },
  {
   "cell_type": "code",
   "execution_count": null,
   "id": "2b1fb864",
   "metadata": {},
   "outputs": [],
   "source": []
  },
  {
   "cell_type": "code",
   "execution_count": null,
   "id": "72cfabc7",
   "metadata": {},
   "outputs": [],
   "source": []
  },
  {
   "cell_type": "code",
   "execution_count": null,
   "id": "8776f633",
   "metadata": {},
   "outputs": [],
   "source": []
  },
  {
   "cell_type": "code",
   "execution_count": null,
   "id": "a1a2bfd5",
   "metadata": {},
   "outputs": [],
   "source": []
  },
  {
   "cell_type": "code",
   "execution_count": null,
   "id": "747386a3",
   "metadata": {},
   "outputs": [],
   "source": []
  },
  {
   "cell_type": "code",
   "execution_count": null,
   "id": "e7145e90",
   "metadata": {},
   "outputs": [],
   "source": []
  },
  {
   "cell_type": "markdown",
   "id": "7946cdb8",
   "metadata": {},
   "source": [
    "# Mostre como implementar uma fila usando duas pilhas. Analise o tempo de execução das operações em filas. \n"
   ]
  },
  {
   "cell_type": "code",
   "execution_count": 6,
   "id": "390adba0",
   "metadata": {},
   "outputs": [
    {
     "name": "stdout",
     "output_type": "stream",
     "text": [
      "1\n",
      "2\n"
     ]
    }
   ],
   "source": [
    "class FilaComPilhas:\n",
    "    def __init__(self):\n",
    "        self.pilha_in = []   # onde entram os elementos\n",
    "        self.pilha_out = []  # de onde saem os elementos\n",
    "\n",
    "    def enqueue(self, x):\n",
    "        \"\"\"Insere elemento no fim da fila\"\"\"\n",
    "        self.pilha_in.append(x)\n",
    "\n",
    "    def dequeue(self):\n",
    "        \"\"\"Remove elemento do início da fila\"\"\"\n",
    "        if not self.pilha_out:\n",
    "            # Transfere elementos da pilha_in para pilha_out\n",
    "            while self.pilha_in:\n",
    "                self.pilha_out.append(self.pilha_in.pop())\n",
    "        if not self.pilha_out:\n",
    "            raise IndexError(\"Fila vazia\")\n",
    "        return self.pilha_out.pop()\n",
    "\n",
    "# Testando\n",
    "fila = FilaComPilhas()\n",
    "fila.enqueue(1)\n",
    "fila.enqueue(2)\n",
    "fila.enqueue(3)\n",
    "print(fila.dequeue())  # 1\n",
    "print(fila.dequeue())  # 2"
   ]
  },
  {
   "cell_type": "markdown",
   "id": "88ee420d",
   "metadata": {},
   "source": [
    "# Mostre como implementar uma pilha usando duas filas. Analise o tempo de execução das operações em pilhas."
   ]
  },
  {
   "cell_type": "code",
   "execution_count": 7,
   "id": "17aa651e",
   "metadata": {},
   "outputs": [
    {
     "name": "stdout",
     "output_type": "stream",
     "text": [
      "30\n",
      "20\n"
     ]
    }
   ],
   "source": [
    "from collections import deque\n",
    "\n",
    "class PilhaComFilas:\n",
    "    def __init__(self):\n",
    "        self.fila1 = deque()\n",
    "        self.fila2 = deque()\n",
    "\n",
    "    def push(self, x):\n",
    "        \"\"\"Insere elemento no topo da pilha\"\"\"\n",
    "        # coloca na fila2\n",
    "        self.fila2.append(x)\n",
    "        # move todos os elementos de fila1 para fila2\n",
    "        while self.fila1:\n",
    "            self.fila2.append(self.fila1.popleft())\n",
    "        # troca os nomes das filas\n",
    "        self.fila1, self.fila2 = self.fila2, self.fila1\n",
    "\n",
    "    def pop(self):\n",
    "        \"\"\"Remove elemento do topo da pilha\"\"\"\n",
    "        if not self.fila1:\n",
    "            raise IndexError(\"Pilha vazia\")\n",
    "        return self.fila1.popleft()\n",
    "\n",
    "# Testando\n",
    "pilha = PilhaComFilas()\n",
    "pilha.push(10)\n",
    "pilha.push(20)\n",
    "pilha.push(30)\n",
    "print(pilha.pop())  # 30\n",
    "print(pilha.pop())  # 20\n"
   ]
  },
  {
   "cell_type": "markdown",
   "id": "b6204907",
   "metadata": {},
   "source": [
    "# Estruturas: Fila usando duas Pilhas e Pilha usando duas Filas\n",
    "\n",
    "## 1️⃣ Fila usando duas pilhas\n",
    "\n",
    "A ideia é simples. Temos **duas pilhas**: `pilha_in` (entrada) e `pilha_out` (saída).\n",
    "\n",
    "Para **enqueue (inserir)**: colocamos sempre em `pilha_in`.\n",
    "\n",
    "Para **dequeue (remover)**: se `pilha_out` estiver vazia, movemos todos os elementos de `pilha_in` para `pilha_out` (inverte a ordem). Então fazemos `pop()` de `pilha_out`. Essa estratégia garante comportamento de **fila (FIFO)**.\n",
    "\n",
    "### Análise de tempo\n",
    "\n",
    "- `enqueue`: **O(1)** (push em pilha).  \n",
    "- `dequeue`: no pior caso (quando `pilha_out` está vazia), precisa mover todos os elementos → **O(n)**.  \n",
    "- Mas, amortizado (cada elemento é movido no máximo uma vez de `pilha_in` para `pilha_out`), o custo médio por operação ainda é **O(1)** amortizado.  \n",
    "\n",
    "---\n",
    "\n",
    "## 2️⃣ Pilha usando duas filas\n",
    "\n",
    "A ideia inversa. Temos **duas filas**: `fila1` e `fila2`.\n",
    "\n",
    "Para **push (empilhar)**: inserimos na fila vazia e movemos todos os elementos da outra fila para ela (garante ordem correta).\n",
    "\n",
    "Para **pop (desempilhar)**: retiramos da frente da fila onde estão os elementos.\n",
    "\n",
    "Existem duas estratégias, mas a mais comum é:\n",
    "- `push = O(n)` (coloca elemento e rearranja)  \n",
    "- `pop = O(1)` (simplesmente retira da fila onde está o topo).  \n",
    "\n",
    "### Análise de tempo\n",
    "\n",
    "- `push`: **O(n)** (porque pode ter que mover todos os elementos para manter ordem).  \n",
    "- `pop`: **O(1)** (retira direto da frente).  \n",
    "\n",
    "Há também outra variação (onde `push` é **O(1)** e `pop` é **O(n)**), mas o trade-off é inevitável."
   ]
  }
 ],
 "metadata": {
  "kernelspec": {
   "display_name": "Python 3",
   "language": "python",
   "name": "python3"
  },
  "language_info": {
   "codemirror_mode": {
    "name": "ipython",
    "version": 3
   },
   "file_extension": ".py",
   "mimetype": "text/x-python",
   "name": "python",
   "nbconvert_exporter": "python",
   "pygments_lexer": "ipython3",
   "version": "3.11.9"
  }
 },
 "nbformat": 4,
 "nbformat_minor": 5
}
