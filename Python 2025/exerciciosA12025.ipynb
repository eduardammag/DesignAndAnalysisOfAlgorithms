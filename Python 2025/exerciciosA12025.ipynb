{
 "cells": [
  {
   "cell_type": "markdown",
   "id": "588b343d",
   "metadata": {},
   "source": [
    "#### **Questão 2 - A1 2023**\n",
    "\n",
    "Dada uma sequência `A` ordenada contendo `n` inteiros distintos, crie um algoritmo capaz de determinar se existe um índice `i` tal que `A[i] = i`.  A complexidade do pior caso deverá ser `(O(log(n))`.  Justifique a sua resposta.\n"
   ]
  },
  {
   "cell_type": "code",
   "execution_count": 11,
   "id": "6b19e67f",
   "metadata": {},
   "outputs": [],
   "source": [
    "def existe_ponto_fixo(A):\n",
    "    n=len(A)\n",
    "    inicio = 0\n",
    "    fim = n-1\n",
    "    while inicio <= fim:\n",
    "        meio = (inicio + fim)//2 \n",
    "        if A[meio] == meio:\n",
    "            return meio \n",
    "        if A[meio] > meio:\n",
    "            fim = meio -1\n",
    "        else: \n",
    "            inicio = meio +1\n",
    "    return False      "
   ]
  },
  {
   "cell_type": "code",
   "execution_count": 13,
   "id": "550c25c3",
   "metadata": {},
   "outputs": [
    {
     "name": "stdout",
     "output_type": "stream",
     "text": [
      "3\n",
      "3\n",
      "4\n"
     ]
    }
   ],
   "source": [
    "A1 = [-3, -1, 1, 3, 5]  \n",
    "print(existe_ponto_fixo(A1))\n",
    "\n",
    "A2 = [-10, -5, 0, 3, 7, 9, 12]\n",
    "print(existe_ponto_fixo(A2))\n",
    "\n",
    "A3 = [-10, -5, -2, 0, 4, 5, 7, 8, 9]\n",
    "print(existe_ponto_fixo(A3))"
   ]
  },
  {
   "cell_type": "markdown",
   "id": "cdc235e0",
   "metadata": {},
   "source": [
    "#### **Questão 4 - A1 2023**\n",
    "\n",
    "Uma sequência `A` contém `n` inteiros positivos distintos. Crie um algoritmo que encontre os `k` números mais próximos da mediana de `A`, sendo `k <=n`. A distância entre dois elementos `a_i` e `a` é definida por `|a_i - a|`. A complexidade do pior caso deverá ser `O(n)`.\n"
   ]
  }
 ],
 "metadata": {
  "kernelspec": {
   "display_name": "Python 3",
   "language": "python",
   "name": "python3"
  },
  "language_info": {
   "codemirror_mode": {
    "name": "ipython",
    "version": 3
   },
   "file_extension": ".py",
   "mimetype": "text/x-python",
   "name": "python",
   "nbconvert_exporter": "python",
   "pygments_lexer": "ipython3",
   "version": "3.11.9"
  }
 },
 "nbformat": 4,
 "nbformat_minor": 5
}
