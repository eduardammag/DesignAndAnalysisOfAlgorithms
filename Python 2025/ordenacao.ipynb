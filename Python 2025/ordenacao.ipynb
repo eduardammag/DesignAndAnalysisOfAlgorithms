{
  "cells": [
    {
      "cell_type": "markdown",
      "id": "f4e1cfa9-f778-4da3-9367-9af90ee80bdf",
      "metadata": {},
      "source": [
        "# Insertion Sort"
      ]
    },
    {
      "cell_type": "code",
      "execution_count": 18,
      "id": "e7792373-6ab9-47fe-b474-ec618d3009d3",
      "metadata": {
        "trusted": true
      },
      "outputs": [],
      "source": [
        "def insertion_sort(arr):\n",
        "    for j in range(1, len(arr)):\n",
        "        chave = arr[j]\n",
        "        i = j - 1\n",
        "        while i >= 0 and arr[i] > chave:\n",
        "            arr[i + 1] = arr[i]\n",
        "            i -= 1\n",
        "        arr[i + 1] = chave\n",
        "    return arr"
      ]
    },
    {
      "cell_type": "code",
      "execution_count": 1,
      "id": "c4a493a4-12ad-4f55-a1e3-3c59a799eb41",
      "metadata": {
        "trusted": true
      },
      "outputs": [
        {
          "name": "stdout",
          "output_type": "stream",
          "text": [
            "Vetor inicial: [5, 2, 4, 6, 1, 3]\n",
            "\n",
            "Inserindo 2 na posição 1\n",
            "  Movendo: [5, 5, 4, 6, 1, 3]\n",
            "  Colocado 2 na posição 0 => [2, 5, 4, 6, 1, 3]\n",
            "\n",
            "Inserindo 4 na posição 2\n",
            "  Movendo: [2, 5, 5, 6, 1, 3]\n",
            "  Colocado 4 na posição 1 => [2, 4, 5, 6, 1, 3]\n",
            "\n",
            "Inserindo 6 na posição 3\n",
            "  Colocado 6 na posição 3 => [2, 4, 5, 6, 1, 3]\n",
            "\n",
            "Inserindo 1 na posição 4\n",
            "  Movendo: [2, 4, 5, 6, 6, 3]\n",
            "  Movendo: [2, 4, 5, 5, 6, 3]\n",
            "  Movendo: [2, 4, 4, 5, 6, 3]\n",
            "  Movendo: [2, 2, 4, 5, 6, 3]\n",
            "  Colocado 1 na posição 0 => [1, 2, 4, 5, 6, 3]\n",
            "\n",
            "Inserindo 3 na posição 5\n",
            "  Movendo: [1, 2, 4, 5, 6, 6]\n",
            "  Movendo: [1, 2, 4, 5, 5, 6]\n",
            "  Movendo: [1, 2, 4, 4, 5, 6]\n",
            "  Colocado 3 na posição 2 => [1, 2, 3, 4, 5, 6]\n",
            "\n",
            "Vetor ordenado: [1, 2, 3, 4, 5, 6]\n"
          ]
        },
        {
          "data": {
            "text/plain": [
              "[1, 2, 3, 4, 5, 6]"
            ]
          },
          "execution_count": 1,
          "metadata": {},
          "output_type": "execute_result"
        }
      ],
      "source": [
        "def insertion_sort(arr):\n",
        "    print(\"Vetor inicial:\", arr)\n",
        "    for j in range(1, len(arr)):\n",
        "        chave = arr[j]\n",
        "        i = j - 1\n",
        "        print(f\"\\nInserindo {chave} na posição {j}\")\n",
        "        while i >= 0 and arr[i] > chave:\n",
        "            arr[i + 1] = arr[i]\n",
        "            i -= 1\n",
        "            print(\"  Movendo:\", arr)\n",
        "        arr[i + 1] = chave\n",
        "        print(\"  Colocado\", chave, \"na posição\", i + 1, \"=>\", arr)\n",
        "    print(\"\\nVetor ordenado:\", arr)\n",
        "    return arr\n",
        "\n",
        "# Exemplo de uso\n",
        "vetor = [5, 2, 4, 6, 1, 3]\n",
        "insertion_sort(vetor)\n"
      ]
    },
    {
      "cell_type": "code",
      "execution_count": 2,
      "id": "229b7f41-f69f-4d89-99b8-0578f8e4e103",
      "metadata": {
        "trusted": true
      },
      "outputs": [
        {
          "name": "stdout",
          "output_type": "stream",
          "text": [
            "Vetor inicial: [31, 41, 59, 26, 41, 58]\n",
            "\n",
            "Inserindo 41 na posição 1\n",
            "  Movendo: [31, 31, 59, 26, 41, 58]\n",
            "  Colocado 41 na posição 0 => [41, 31, 59, 26, 41, 58]\n",
            "\n",
            "Inserindo 59 na posição 2\n",
            "  Movendo: [41, 31, 31, 26, 41, 58]\n",
            "  Movendo: [41, 41, 31, 26, 41, 58]\n",
            "  Colocado 59 na posição 0 => [59, 41, 31, 26, 41, 58]\n",
            "\n",
            "Inserindo 26 na posição 3\n",
            "  Colocado 26 na posição 3 => [59, 41, 31, 26, 41, 58]\n",
            "\n",
            "Inserindo 41 na posição 4\n",
            "  Movendo: [59, 41, 31, 26, 26, 58]\n",
            "  Movendo: [59, 41, 31, 31, 26, 58]\n",
            "  Colocado 41 na posição 2 => [59, 41, 41, 31, 26, 58]\n",
            "\n",
            "Inserindo 58 na posição 5\n",
            "  Movendo: [59, 41, 41, 31, 26, 26]\n",
            "  Movendo: [59, 41, 41, 31, 31, 26]\n",
            "  Movendo: [59, 41, 41, 41, 31, 26]\n",
            "  Movendo: [59, 41, 41, 41, 31, 26]\n",
            "  Colocado 58 na posição 1 => [59, 58, 41, 41, 31, 26]\n",
            "\n",
            "Vetor ordenado (decrescente): [59, 58, 41, 41, 31, 26]\n"
          ]
        },
        {
          "data": {
            "text/plain": [
              "[59, 58, 41, 41, 31, 26]"
            ]
          },
          "execution_count": 2,
          "metadata": {},
          "output_type": "execute_result"
        }
      ],
      "source": [
        "# Para ordenar em ordem não crescente, em vez da ordem não  decrescente basta inverter a condição do while para arr[i] < chave\n",
        "def insertion_sort_decrescente(arr):\n",
        "    print(\"Vetor inicial:\", arr)\n",
        "    for j in range(1, len(arr)):\n",
        "        chave = arr[j]\n",
        "        i = j - 1\n",
        "        print(f\"\\nInserindo {chave} na posição {j}\")\n",
        "        while i >= 0 and arr[i] < chave:  # alterado para <\n",
        "            arr[i + 1] = arr[i]\n",
        "            i -= 1\n",
        "            print(\"  Movendo:\", arr)\n",
        "        arr[i + 1] = chave\n",
        "        print(\"  Colocado\", chave, \"na posição\", i + 1, \"=>\", arr)\n",
        "    print(\"\\nVetor ordenado (decrescente):\", arr)\n",
        "    return arr\n",
        "\n",
        "# Exemplo de uso\n",
        "vetor = [31, 41, 59, 26, 41, 58]\n",
        "insertion_sort_decrescente(vetor)\n"
      ]
    },
    {
      "cell_type": "markdown",
      "id": "5a02f231-24b1-4a73-8271-e1d65c58f377",
      "metadata": {},
      "source": [
        "Linear-Search(A, v)\n",
        "1  for i = 0 to n-1\n",
        "2      if A[i] == v\n",
        "3          return i\n",
        "4  return NIL\n"
      ]
    },
    {
      "cell_type": "code",
      "execution_count": 3,
      "id": "f06b4abe-b474-4ef8-8e73-7add0895fe78",
      "metadata": {
        "trusted": true
      },
      "outputs": [
        {
          "name": "stdout",
          "output_type": "stream",
          "text": [
            "Resultado da busca: 1\n",
            "1\n",
            "None\n",
            "3\n"
          ]
        }
      ],
      "source": [
        "def linear_search(A, v):\n",
        "    for i in range(len(A)):\n",
        "        if A[i] == v:\n",
        "            return i\n",
        "    return None  # equivalente a NIL\n",
        "\n",
        "# Exemplo de uso\n",
        "A = [31, 41, 59, 26, 41, 58]\n",
        "v = 41\n",
        "resultado = linear_search(A, v)\n",
        "print(\"Resultado da busca:\", resultado)\n",
        "A = [31, 41, 59, 26, 41, 58]\n",
        "\n",
        "print(linear_search(A, 41))  # Saída: 1 (primeira ocorrência de 41)\n",
        "print(linear_search(A, 100)) # Saída: None (não encontrado)\n",
        "print(linear_search(A, 26))  # Saída: 3\n"
      ]
    },
    {
      "cell_type": "markdown",
      "id": "79bdc0e5-9938-4224-9b4e-f8551b73adc3",
      "metadata": {},
      "source": [
        "Considere o problema de somar dois inteiros binários de n bits, armazenados em dois arranjos de n elementos\n",
        " A e B. A soma dos dois inteiros deve ser armazenada em forma binária em um arranjo de (n + 1) elementos\n",
        " C. Enuncie o problema formalmente e escreva o pseudocódigo para somar os dois inteiros e depois escreva o codigo equivalente em python com uma aplicação.\n",
        "\n",
        " Binary-Add(A, B)\n",
        "1  n = comprimento de A\n",
        "2  C = array de n+1 zeros\n",
        "3  carry = 0\n",
        "4  for i = 0 to n-1\n",
        "5      soma = A[i] + B[i] + carry\n",
        "6      C[i] = soma mod 2       # resto da divisão por 2\n",
        "7      carry = soma // 2       # divisão inteira por 2\n",
        "8  C[n] = carry\n",
        "9  return C\n"
      ]
    },
    {
      "cell_type": "markdown",
      "id": "4d4bf704-5a4e-4e88-b473-d2460cfd8261",
      "metadata": {},
      "source": [
        "# 1️⃣ Enunciado formal do problema\n",
        "\n",
        "## Entrada\n",
        "\n",
        "Dois inteiros binários **A** e **B**, cada um representado como um arranjo de n bits:\n",
        "\n",
        "\\[\n",
        "A = \\langle a_0, a_1, ..., a_{n-1} \\rangle\n",
        "\\]  \n",
        "\\[\n",
        "B = \\langle b_0, b_1, ..., b_{n-1} \\rangle\n",
        "\\]\n",
        "\n",
        "Os bits estão organizados do **menos significativo ao mais significativo** (ou seja, \\(a_0\\) e \\(b_0\\) são os bits menos significativos).\n",
        "\n",
        "---\n",
        "\n",
        "## Saída\n",
        "\n",
        "Um arranjo **C** de \\(n+1\\) bits que representa a soma binária de **A** e **B**:\n",
        "\n",
        "\\[\n",
        "C = \\langle c_0, c_1, ..., c_n \\rangle\n",
        "\\]\n",
        "\n",
        "Onde \\(c_0\\) é o **bit menos significativo** e \\(c_n\\) é o **carry final** (o bit extra que pode surgir da soma do último par de bits).\n",
        "\n",
        "---\n",
        "\n",
        "## Explicação da solução\n",
        "\n",
        "O objetivo é somar dois números binários **bit a bit**, levando em consideração o **carry** gerado a cada soma:\n",
        "\n",
        "1. Inicializamos um arranjo **C** com \\(n+1\\) zeros e uma variável `carry = 0`.\n",
        "2. Para cada posição `i` do bit menos significativo ao mais significativo:\n",
        "   - Calculamos a soma local: `soma = A[i] + B[i] + carry`.\n",
        "   - Definimos o bit de saída: `C[i] = soma % 2` (resto da divisão por 2).\n",
        "   - Atualizamos o carry: `carry = soma // 2` (divisão inteira por 2).\n",
        "3. Ao final do laço, armazenamos o carry final em `C[n]`.\n",
        "4. O arranjo **C** agora representa o número binário resultante da soma de **A** e **B**.\n",
        "\n",
        "Dessa forma, conseguimos somar dois números binários de **n bits** corretamente, incluindo o caso em que há overflow, que é armazenado no bit extra \\(c_n\\).\n"
      ]
    },
    {
      "cell_type": "code",
      "execution_count": 5,
      "id": "6131af47-ba80-427d-9c78-ed5eae5e2c2f",
      "metadata": {
        "trusted": true
      },
      "outputs": [
        {
          "name": "stdout",
          "output_type": "stream",
          "text": [
            "A: [1, 0, 1, 1]\n",
            "B: [1, 1, 0, 1]\n",
            "Soma: [0, 0, 0, 1, 1]\n"
          ]
        }
      ],
      "source": [
        "def binary_add(A, B):\n",
        "    n = len(A)\n",
        "    C = [0] * (n + 1)\n",
        "    carry = 0\n",
        "    \n",
        "    for i in range(n):\n",
        "        soma = A[i] + B[i] + carry\n",
        "        C[i] = soma % 2\n",
        "        carry = soma // 2\n",
        "    \n",
        "    C[n] = carry\n",
        "    return C\n",
        "\n",
        "# Exemplo de uso\n",
        "A = [1, 0, 1, 1]  # 1101 em binário (bit menos significativo primeiro)\n",
        "B = [1, 1, 0, 1]  # 1011 em binário\n",
        "C = binary_add(A, B)\n",
        "\n",
        "print(\"A:\", A)\n",
        "print(\"B:\", B)\n",
        "print(\"Soma:\", C)  # Resultado esperado: [0, 0, 0, 1, 1] (11000)\n"
      ]
    },
    {
      "cell_type": "code",
      "execution_count": 7,
      "id": "3b7b9158-3c1b-4663-87e1-af3cc4c9589a",
      "metadata": {
        "trusted": true
      },
      "outputs": [
        {
          "name": "stdout",
          "output_type": "stream",
          "text": [
            "Vetor inicial: [64, 25, 12, 22, 11]\n",
            "Passo 1: [11, 64, 25, 12, 22]\n",
            "Passo 2: [11, 12, 64, 25, 22]\n",
            "Passo 3: [11, 12, 22, 64, 25]\n",
            "Passo 4: [11, 12, 22, 25, 64]\n",
            "Vetor ordenado: [11, 12, 22, 25, 64]\n"
          ]
        }
      ],
      "source": [
        "def selection_sort(A):\n",
        "    n = len(A)\n",
        "    for i in range(n - 1):\n",
        "        min_index = i\n",
        "        # encontra o índice do menor elemento\n",
        "        for j in range(i + 1, n):\n",
        "            if A[j] < A[min_index]:\n",
        "                min_index = j\n",
        "        \n",
        "        # guarda o valor mínimo\n",
        "        min_value = A[min_index]\n",
        "        # move os elementos entre i e min_index uma posição à direita\n",
        "        while min_index > i:\n",
        "            A[min_index] = A[min_index - 1]\n",
        "            min_index -= 1\n",
        "        # coloca o mínimo na posição correta\n",
        "        A[i] = min_value\n",
        "        \n",
        "        print(f\"Passo {i+1}: {A}\")\n",
        "\n",
        "# Exemplo de uso\n",
        "vetor = [64, 25, 12, 22, 11]\n",
        "print(\"Vetor inicial:\", vetor)\n",
        "selection_sort(vetor)\n",
        "print(\"Vetor ordenado:\", vetor)\n"
      ]
    },
    {
      "cell_type": "code",
      "execution_count": 8,
      "id": "2a58985b-3ad7-409b-adbe-6c5ecbbd1d75",
      "metadata": {
        "trusted": true
      },
      "outputs": [
        {
          "name": "stdout",
          "output_type": "stream",
          "text": [
            "\n",
            "--- MERGE ---\n",
            "Sublista esquerda L: [1, 3, 5] + ∞\n",
            "Sublista direita R: [2, 4, 6] + ∞\n",
            "\n",
            "Comparando L[0]=1 e R[0]=2\n",
            "A[0] recebe 1 (da esquerda)\n",
            "Estado atual do vetor: [1, 3, 5, 2, 4, 6]\n",
            "\n",
            "Comparando L[1]=3 e R[0]=2\n",
            "A[1] recebe 2 (da direita)\n",
            "Estado atual do vetor: [1, 2, 5, 2, 4, 6]\n",
            "\n",
            "Comparando L[1]=3 e R[1]=4\n",
            "A[2] recebe 3 (da esquerda)\n",
            "Estado atual do vetor: [1, 2, 3, 2, 4, 6]\n",
            "\n",
            "Comparando L[2]=5 e R[1]=4\n",
            "A[3] recebe 4 (da direita)\n",
            "Estado atual do vetor: [1, 2, 3, 4, 4, 6]\n",
            "\n",
            "Comparando L[2]=5 e R[2]=6\n",
            "A[4] recebe 5 (da esquerda)\n",
            "Estado atual do vetor: [1, 2, 3, 4, 5, 6]\n",
            "\n",
            "Comparando L[3]=inf e R[2]=6\n",
            "A[5] recebe 6 (da direita)\n",
            "Estado atual do vetor: [1, 2, 3, 4, 5, 6]\n",
            "\n",
            "Resultado final: [1, 2, 3, 4, 5, 6]\n"
          ]
        }
      ],
      "source": [
        "def merge(A, p, q, r):\n",
        "    # Tamanhos das sublistas\n",
        "    n1 = q - p + 1\n",
        "    n2 = r - q\n",
        "\n",
        "    # Criar listas temporárias\n",
        "    L = [0] * (n1 + 1)\n",
        "    R = [0] * (n2 + 1)\n",
        "\n",
        "    # Copiar dados para L[] e R[]\n",
        "    for i in range(0, n1):\n",
        "        L[i] = A[p + i]\n",
        "    for j in range(0, n2):\n",
        "        R[j] = A[q + 1 + j]\n",
        "\n",
        "    # Sentinelas (infinito)\n",
        "    L[n1] = float(\"inf\")\n",
        "    R[n2] = float(\"inf\")\n",
        "\n",
        "    print(\"\\n--- MERGE ---\")\n",
        "    print(f\"Sublista esquerda L: {L[:-1]} + ∞\")\n",
        "    print(f\"Sublista direita R: {R[:-1]} + ∞\")\n",
        "\n",
        "    i = 0\n",
        "    j = 0\n",
        "\n",
        "    for k in range(p, r + 1):\n",
        "        print(f\"\\nComparando L[{i}]={L[i]} e R[{j}]={R[j]}\")\n",
        "        if L[i] <= R[j]:\n",
        "            A[k] = L[i]\n",
        "            print(f\"A[{k}] recebe {L[i]} (da esquerda)\")\n",
        "            i += 1\n",
        "        else:\n",
        "            A[k] = R[j]\n",
        "            print(f\"A[{k}] recebe {R[j]} (da direita)\")\n",
        "            j += 1\n",
        "        print(\"Estado atual do vetor:\", A)\n",
        "\n",
        "\n",
        "\n",
        "A = [1, 3, 5, 2, 4, 6]  # [1,3,5] e [2,4,6]\n",
        "merge(A, 0, 2, 5)\n",
        "print(\"\\nResultado final:\", A)\n"
      ]
    },
    {
      "cell_type": "markdown",
      "id": "7e6a2712",
      "metadata": {},
      "source": [
        "# Quick sort\n"
      ]
    },
    {
      "cell_type": "code",
      "execution_count": null,
      "id": "e94ec007-dea9-421b-aeeb-310d5bb6ae24",
      "metadata": {
        "trusted": true
      },
      "outputs": [],
      "source": [
        "def quicksort(arr, inicio, fim):\n",
        "    if inicio < fim:\n",
        "        p = partition(arr, inicio, fim)\n",
        "        quicksort(arr, inicio, p-1)\n",
        "        quicksort(arr, p+1, fim)\n",
        "\n",
        "def partition(arr, inicio, fim):\n",
        "    pivo = arr[fim]\n",
        "    i = inicio -1\n",
        "    for j in range(inicio, fim):\n",
        "        if arr[j] <= pivo:\n",
        "            i +=1\n",
        "            arr[i], arr[j] = arr[j], arr[i]\n",
        "    arr[i+1], arr[fim] = arr[fim], arr[i+1]\n",
        "    return i+1                "
      ]
    },
    {
      "cell_type": "markdown",
      "id": "11c5ad1b",
      "metadata": {},
      "source": [
        "# Merge Sort"
      ]
    },
    {
      "cell_type": "code",
      "execution_count": null,
      "id": "fdb69078-7d6d-481c-a283-6281a68e1aad",
      "metadata": {
        "trusted": true
      },
      "outputs": [],
      "source": [
        "def merge_sort(arr):\n",
        "    if len(arr) <= 1:\n",
        "        return arr\n",
        "    mid = len(arr)//2\n",
        "    left = merge_sort(arr[:mid])\n",
        "    right = merge_sort(arr=[mid:])\n",
        "    return merge(left, right)\n",
        "\n",
        "def merge(left, right):\n",
        "    result = []\n",
        "    i = j = 0\n",
        "    while i < len(left) and j < len(right):\n",
        "        if left[i] <= right[j]:\n",
        "            result.append(left[i])\n",
        "            i +=1\n",
        "        else:\n",
        "            result.append(right[j])\n",
        "            j +=1\n",
        "    result.extend(left[i:])\n",
        "    result.extend(right[j:])\n",
        "    return result             "
      ]
    },
    {
      "cell_type": "markdown",
      "id": "9c05e387",
      "metadata": {},
      "source": []
    }
  ],
  "metadata": {
    "kernelspec": {
      "display_name": "Python (Pyodide)",
      "language": "python",
      "name": "python"
    },
    "language_info": {
      "codemirror_mode": {
        "name": "python",
        "version": 3
      },
      "file_extension": ".py",
      "mimetype": "text/x-python",
      "name": "python",
      "nbconvert_exporter": "python",
      "pygments_lexer": "ipython3",
      "version": "3.8"
    }
  },
  "nbformat": 4,
  "nbformat_minor": 5
}
